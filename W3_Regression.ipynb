{
  "nbformat": 4,
  "nbformat_minor": 0,
  "metadata": {
    "colab": {
      "provenance": [],
      "authorship_tag": "ABX9TyMcDBcrP7VDXOH/w0uvMcoy",
      "include_colab_link": true
    },
    "kernelspec": {
      "name": "python3",
      "display_name": "Python 3"
    },
    "language_info": {
      "name": "python"
    }
  },
  "cells": [
    {
      "cell_type": "markdown",
      "metadata": {
        "id": "view-in-github",
        "colab_type": "text"
      },
      "source": [
        "<a href=\"https://colab.research.google.com/github/will-mccormack/CS-M148-Proj/blob/main/W3_Regression.ipynb\" target=\"_parent\"><img src=\"https://colab.research.google.com/assets/colab-badge.svg\" alt=\"Open In Colab\"/></a>"
      ]
    },
    {
      "cell_type": "code",
      "execution_count": 1,
      "metadata": {
        "colab": {
          "base_uri": "https://localhost:8080/"
        },
        "id": "8DsOY7Y90_OL",
        "outputId": "cd17037b-8651-4117-af65-c0a7c34a112d"
      },
      "outputs": [
        {
          "output_type": "stream",
          "name": "stdout",
          "text": [
            "Collecting scikit-lego\n",
            "  Downloading scikit_lego-0.9.6-py3-none-any.whl.metadata (12 kB)\n",
            "Requirement already satisfied: narwhals>=1.5.0 in /usr/local/lib/python3.12/dist-packages (from scikit-lego) (2.8.0)\n",
            "Requirement already satisfied: pandas>=1.1.5 in /usr/local/lib/python3.12/dist-packages (from scikit-lego) (2.2.2)\n",
            "Requirement already satisfied: scikit-learn>=1.0 in /usr/local/lib/python3.12/dist-packages (from scikit-lego) (1.6.1)\n",
            "Collecting sklearn-compat>=0.1.3 (from scikit-lego)\n",
            "  Downloading sklearn_compat-0.1.4-py3-none-any.whl.metadata (19 kB)\n",
            "Requirement already satisfied: numpy>=1.26.0 in /usr/local/lib/python3.12/dist-packages (from pandas>=1.1.5->scikit-lego) (2.0.2)\n",
            "Requirement already satisfied: python-dateutil>=2.8.2 in /usr/local/lib/python3.12/dist-packages (from pandas>=1.1.5->scikit-lego) (2.9.0.post0)\n",
            "Requirement already satisfied: pytz>=2020.1 in /usr/local/lib/python3.12/dist-packages (from pandas>=1.1.5->scikit-lego) (2025.2)\n",
            "Requirement already satisfied: tzdata>=2022.7 in /usr/local/lib/python3.12/dist-packages (from pandas>=1.1.5->scikit-lego) (2025.2)\n",
            "Requirement already satisfied: scipy>=1.6.0 in /usr/local/lib/python3.12/dist-packages (from scikit-learn>=1.0->scikit-lego) (1.16.2)\n",
            "Requirement already satisfied: joblib>=1.2.0 in /usr/local/lib/python3.12/dist-packages (from scikit-learn>=1.0->scikit-lego) (1.5.2)\n",
            "Requirement already satisfied: threadpoolctl>=3.1.0 in /usr/local/lib/python3.12/dist-packages (from scikit-learn>=1.0->scikit-lego) (3.6.0)\n",
            "Requirement already satisfied: six>=1.5 in /usr/local/lib/python3.12/dist-packages (from python-dateutil>=2.8.2->pandas>=1.1.5->scikit-lego) (1.17.0)\n",
            "Downloading scikit_lego-0.9.6-py3-none-any.whl (227 kB)\n",
            "\u001b[2K   \u001b[90m━━━━━━━━━━━━━━━━━━━━━━━━━━━━━━━━━━━━━━━━\u001b[0m \u001b[32m227.3/227.3 kB\u001b[0m \u001b[31m4.5 MB/s\u001b[0m eta \u001b[36m0:00:00\u001b[0m\n",
            "\u001b[?25hDownloading sklearn_compat-0.1.4-py3-none-any.whl (19 kB)\n",
            "Installing collected packages: sklearn-compat, scikit-lego\n",
            "Successfully installed scikit-lego-0.9.6 sklearn-compat-0.1.4\n"
          ]
        }
      ],
      "source": [
        "%pip install scikit-lego"
      ]
    },
    {
      "cell_type": "code",
      "source": [
        "import pandas as pd\n",
        "import numpy as np\n",
        "import scipy as sp\n",
        "import matplotlib as mpl\n",
        "import matplotlib.cm as cm\n",
        "import matplotlib.pyplot as plt\n",
        "import time\n",
        "import plotly.express as px\n",
        "import plotly.graph_objects as go\n",
        "import seaborn as sns\n",
        "import statsmodels.api as sm\n",
        "from sklearn.metrics import mean_squared_error, mean_absolute_error, r2_score"
      ],
      "metadata": {
        "id": "IAFgz1Wm1GOP"
      },
      "execution_count": 3,
      "outputs": []
    },
    {
      "cell_type": "code",
      "source": [
        "cleaned_data = pd.read_csv(\"https://raw.githubusercontent.com/will-mccormack/CS-M148-Proj/main/Data/train.csv\")\n",
        "validation_data = pd.read_csv(\"https://raw.githubusercontent.com/will-mccormack/CS-M148-Proj/main/Data/validation.csv\")"
      ],
      "metadata": {
        "id": "5Ptni5kH1kdA"
      },
      "execution_count": 5,
      "outputs": []
    },
    {
      "cell_type": "code",
      "source": [
        "numerical_cols = cleaned_data.select_dtypes(include=np.number).columns.tolist()\n",
        "predictors = cleaned_data[numerical_cols].drop(columns=[\"popularity\"]).columns.tolist()\n",
        "\n",
        "model = sm.OLS(cleaned_data[\"popularity\"],cleaned_data[predictors]).fit()\n",
        "p_values = model.pvalues\n",
        "p_values_threshold = 0.05\n",
        "print(p_values >= p_values_threshold)"
      ],
      "metadata": {
        "colab": {
          "base_uri": "https://localhost:8080/"
        },
        "id": "npKdOr931uq4",
        "outputId": "059ff7f5-8c8c-4255-fc7c-c1e875616284"
      },
      "execution_count": 6,
      "outputs": [
        {
          "output_type": "stream",
          "name": "stdout",
          "text": [
            "duration_ms          True\n",
            "danceability        False\n",
            "energy              False\n",
            "key                  True\n",
            "loudness            False\n",
            "mode                False\n",
            "speechiness         False\n",
            "acousticness         True\n",
            "instrumentalness    False\n",
            "liveness            False\n",
            "valence             False\n",
            "tempo               False\n",
            "time_signature      False\n",
            "dtype: bool\n"
          ]
        }
      ]
    },
    {
      "cell_type": "code",
      "source": [
        "# drop columns with p value over 0.05\n",
        "drop_columns = p_values[p_values >= p_values_threshold].index.tolist()\n",
        "cleaned_data = cleaned_data.drop(columns=drop_columns)\n",
        "numerical_cols = cleaned_data.select_dtypes(include=np.number).columns.tolist()\n",
        "predictors = cleaned_data[numerical_cols].drop(columns=[\"popularity\"]).columns.tolist()"
      ],
      "metadata": {
        "id": "_bTey2MK2Dyk"
      },
      "execution_count": 17,
      "outputs": []
    },
    {
      "cell_type": "code",
      "source": [
        "model = sm.OLS(cleaned_data[\"popularity\"],cleaned_data[predictors]).fit()\n",
        "p_values = model.pvalues\n",
        "print(p_values >= p_values_threshold)"
      ],
      "metadata": {
        "colab": {
          "base_uri": "https://localhost:8080/"
        },
        "id": "pcV7YFSI2Du_",
        "outputId": "0da8932e-27b8-483d-c4e2-484101011b52"
      },
      "execution_count": 18,
      "outputs": [
        {
          "output_type": "stream",
          "name": "stdout",
          "text": [
            "danceability        False\n",
            "energy              False\n",
            "loudness            False\n",
            "mode                False\n",
            "speechiness         False\n",
            "instrumentalness    False\n",
            "liveness            False\n",
            "valence             False\n",
            "tempo               False\n",
            "time_signature      False\n",
            "dtype: bool\n"
          ]
        }
      ]
    },
    {
      "cell_type": "markdown",
      "source": [
        "check the model for training R2 vs validation R2 and MSE"
      ],
      "metadata": {
        "id": "kYXumvlw5RrW"
      }
    },
    {
      "cell_type": "code",
      "source": [],
      "metadata": {
        "id": "XVrQOwmW5StW"
      },
      "execution_count": null,
      "outputs": []
    }
  ]
}